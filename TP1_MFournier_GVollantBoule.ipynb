{
 "cells": [
  {
   "cell_type": "markdown",
   "metadata": {},
   "source": [
    "## Question 1\n",
    "Selon wikipedia, la gamme d'énergie des protons va de 70 MeV à 250 MeV. L'énergie maximale serait donc de 250 MeV. Ces niveaux d'énergies dépendent de la pénétration désirée pour le proton. Les facteurs de lorentz sont $\\gamma$ et $\\beta$ qui représentent :\n",
    "\n",
    "$$\\gamma=\\frac{1}{\\sqrt{1-\\beta^{2}}}~~~~~\\beta=\\frac{v}{c}$$\n",
    "\n",
    "Comme le facteur de Lorentz sous-entend des vitesses relativistes alors on obtient $T$, l'énergie cinétique relativiste, selon :\n",
    "\n",
    "$$T=\\gamma mc^{2}-mc^{2}=mc^{2}(\\gamma-1)$$\n",
    "\n",
    "Il est possible d'isoler $\\gamma$ ce qui nous donne :\n",
    "\n",
    "$$\\gamma=\\frac{T}{mc^{2}}+1$$"
   ]
  },
  {
   "cell_type": "markdown",
   "metadata": {},
   "source": [
    "## Question 2\n",
    "En utilisant la masse volumique $\\rho$, il est possible de déterminer le nombre $N$ de molécule par unité de volume selon :\n",
    "\n",
    "$$N=\\frac{\\rho}{M_{m}}$$\n",
    "\n",
    "où $M_{m}$ est la masse d'une molécule. Comme on veut obtenir le nombre d'atomes de chaques espèces il faut multiplier le nombre de molécules par le nombre d'atomes la composant. On peut directement passé au nombre total d'électrons en utilisant le numéro atomique de chaques espèces. Cette quantité est déterminé selon :\n",
    "\n",
    "$$D_{e}=\\frac{\\rho}{M_{m}}\\cdot \\sum_{i=1}^{n}Z_{i}$$\n",
    "\n",
    "où $Z_{i}$ est le numéro atomique d'un atome. Avec $D_{e}$, nous avons donc le nombre total d'électrons par unité de volume. Comme les masses des molécules sont habituellement en masse molaire, on multiplie par le nombre d'avogadro pour obtenir enfin :\n",
    "\n",
    "$$D_{e}=\\frac{\\rho}{M_{m}}N_{A}\\cdot\\sum_{i=1}^{n}Z_{i}$$\n",
    "\n",
    "Pour l'eau ($2\\times H\\to Z=1$, $O\\to Z=8$, $M_{m}=18.01528 g/mol$, $\\rho=1 g/cm^{3}$), la densité électronique est donc :\n",
    "\n",
    "$$D_{eau}=\\frac{1}{18.01528}6.02214076×10^{23}\\cdot(1+1+8)=3.3428\\times10^{23}e^{-}/cm^{3}$$"
   ]
  },
  {
   "cell_type": "markdown",
   "metadata": {},
   "source": []
  },
  {
   "cell_type": "code",
   "execution_count": null,
   "metadata": {},
   "outputs": [],
   "source": []
  }
 ],
 "metadata": {
  "kernelspec": {
   "display_name": "Python 3",
   "language": "python",
   "name": "python3"
  },
  "language_info": {
   "codemirror_mode": {
    "name": "ipython",
    "version": 3
   },
   "file_extension": ".py",
   "mimetype": "text/x-python",
   "name": "python",
   "nbconvert_exporter": "python",
   "pygments_lexer": "ipython3",
   "version": "3.7.3"
  }
 },
 "nbformat": 4,
 "nbformat_minor": 2
}
