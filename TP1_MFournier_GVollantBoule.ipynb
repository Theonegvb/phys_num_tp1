{
 "cells": [
  {
   "cell_type": "markdown",
   "metadata": {},
   "source": [
    "## Question 1\n",
    "Selon wikipedia, la gamme d'énergie des protons va de 70 MeV à 250 MeV. L'énergie maximale serait donc de 250 MeV. Ces niveaux d'énergies dépendent de la pénétration désirée pour le proton. Les facteurs de lorentz sont $\\gamma$ et $\\beta$ qui représentent :\n",
    "\n",
    "$$\\gamma=\\frac{1}{\\sqrt{1-\\beta^{2}}}~avec~\\beta=\\frac{v}{c}$$\n",
    "\n",
    "Comme le facteur de Lorentz sous-entend des vitesses relativistes alors on obtient $T$, l'énergie cinétique relativiste, selon :\n",
    "\n",
    "$$T=\\gamma mc^{2}-mc^{2}=mc^{2}(\\gamma-1)$$\n",
    "\n",
    "Il est possible d'isoler $\\gamma$ ce qui nous donne :\n",
    "\n",
    "$$\\gamma=\\frac{T}{mc^{2}}+1$$"
   ]
  },
  {
   "cell_type": "markdown",
   "metadata": {},
   "source": [
    "## Question 2\n",
    "Nous avons la masse volumique selon :\n",
    "\n",
    "$$\\rho=\\frac{m}{V}$$\n",
    "\n",
    "Ainsi que $N$, le nombre d'atomes par gramme. On cherche $n_e$, la densité électronique pour une matière donnée, donc $n_e~\\left[\\frac{e}{cm^3}\\right]$. Du NIST, on a la masse volumique de l'os cortical et de l'eau en $g/cm^3$ ainsi que la fraction par masse des différents atomes qui compose la matière. Nous avons donc :\n",
    "\n",
    "$$n_e=\\rho NZ_{t}=\\rho N\\sum_{i=1}^{n}Z_{i}a_{i}$$\n",
    "\n",
    "On peut obtenir $N$ en cosnidérant les masses molaires des différents atomes qui compose la matière :\n",
    "\n",
    "$$N~\\left[\\frac{e^{-}}{cm^3}\\right]\\to \\frac{N_{A}}{M_{m}}\\cdot\\rho\\cdot Z_{t}~\\left[\\frac{atomes}{mol}\\cdot\\frac{mol}{g}\\cdot\\frac{g}{cm^3}\\cdot e^{-}\\right]$$\n",
    "\n",
    "Donc :\n",
    "\n",
    "$$n_e=\\rho NZ_{t}=\\rho \\sum_{i=1}^{n}Z_{i}a_{i}\\frac{N_{A}}{M_{mi}}$$\n",
    "\n",
    "où $N_{A}$ est le nombre d'Avogadro et $M_{mi}$ est la masse molaire d'un atome qui compose la substance. Pour l'eau, avec $\\rho=1~\\left[\\frac{g}{cm^3}\\right]$, nous avons donc :\n",
    "\n",
    "$$n_e=\\left(\\frac{1\\cdot0.111894}{1.660540199\\times10^{-24}}+\\frac{8\\cdot0.888106}{2.656698265\\times10^{-23}}\\right)~\\left[\\frac{e^{-}}{cm^3}\\right]=3.3481\\times10^{23}~\\left[\\frac{e^{-}}{cm^3}\\right]$$\n",
    "\n",
    "Avec $I=75~\\left[eV\\right]$. Les masses sont déterminées à partir des masses atomiques des éléments trouvées de www.ptable.com. Pour l'os cortical, avec $\\rho=1.85~\\left[\\frac{g}{cm^3}\\right]$ nous avons :\n",
    "\n",
    "$$n_e=\\left(.~.~.\\right)=5.8121\\times10^{23}~\\left[\\frac{e^{-}}{cm^3}\\right]$$\n",
    "\n",
    "avec $I=106.4~\\left[eV\\right]$. Les courbes sont donc :\n"
   ]
  },
  {
   "cell_type": "code",
   "execution_count": 3,
   "metadata": {},
   "outputs": [
    {
     "data": {
      "image/png": "[encoded data removed]",
      "text/plain": [
       "<Figure size 432x288 with 1 Axes>"
      ]
     },
     "metadata": {
      "needs_background": "light"
     },
     "output_type": "display_data"
    },
    {
     "data": {
      "image/png": "[encoded data removed]",
      "text/plain": [
       "<Figure size 432x288 with 1 Axes>"
      ]
     },
     "metadata": {
      "needs_background": "light"
     },
     "output_type": "display_data"
    }
   ],
   "source": [
    "import matplotlib.pyplot as plt\n",
    "import numpy as np\n",
    "from numpy import pi\n",
    "\n",
    "%matplotlib inline\n",
    "\n",
    "\n",
    "def beta(g):\n",
    "    return np.sqrt(1 - 1 / (g ** 2))\n",
    "\n",
    "\n",
    "def gamma(t):\n",
    "    mProton = 938.272\n",
    "    return t / mProton + 1\n",
    "\n",
    "\n",
    "def tMax(g):\n",
    "    mElectron = 0.51099895000\n",
    "    mPronton = 938.272\n",
    "    return (2 * mElectron * ((g ** 2) - 1)) / (1 + 2 * g * (mElectron / mPronton) + (mElectron / mPronton) ** 2)\n",
    "\n",
    "\n",
    "def stoppingPower(nElectron, protonEnergy, i):\n",
    "    rElectron = 2.81794033e-13\n",
    "    mElectron = 0.51099895000\n",
    "    g = gamma(protonEnergy)\n",
    "    b = beta(g)\n",
    "    return 2 * pi * rElectron ** 2 * mElectron * nElectron * b ** -2 *\\\n",
    "           (np.log((2 * mElectron * b ** 2 * g ** 2 * tMax(g))/(i ** 2)) - 2 * b ** 2)\n",
    "\n",
    "\n",
    "if __name__ == '__main__':\n",
    "    energies = np.arange(0.001, 10000, 0.0005)\n",
    "\n",
    "    bHydrogen = (1 * 0.047234 * 6.022e23) / (1.660540199e-24 * 6.022e23)\n",
    "    bCarbon = (6 * 0.144330 * 6.022e23) / (1.994242358e-23 * 6.022e23)\n",
    "    bNitrogen = (7 * 0.041990 * 6.022e23) / (2.325824007e-23 * 6.022e23)\n",
    "    bOxygen = (8 * 0.446096 * 6.022e23) / (2.656703247e-23 * 6.022e23)\n",
    "    bMagnesium = (12 * 0.002200 * 6.022e23) / (4.035776902e-23 * 6.022e23)\n",
    "    bPhosphorus = (15 * 0.104970 * 6.022e23) / (5.143317694e-23 * 6.022e23)\n",
    "    bSulfur = (16 * 0.003150 * 6.022e23) / (5.323525827e-23 * 6.022e23)\n",
    "    bCalcium = (20 * 0.209930 * 6.022e23) / (6.655113013e-23 * 6.022e23)\n",
    "    bZinc = (30 * 0.000100 * 6.022e23) / (1.085661182e-22 * 6.022e23)\n",
    "    bNElectron = 1.85 * (bHydrogen + bCarbon + bNitrogen + bOxygen + bMagnesium + bPhosphorus + bSulfur + bCalcium + bZinc)\n",
    "    bI = 106.4 / 1000000\n",
    "    plt.plot(energies, stoppingPower(bNElectron, energies, bI))\n",
    "    plt.xscale('log')\n",
    "    plt.yscale('log')\n",
    "    plt.show()\n",
    "\n",
    "    hydrogen = (1 * 0.111894 * 6.022e23) / (1.660540199e-24 * 6.022e23)\n",
    "    oxygen = (8 * 0.888106 * 6.022e23) / (2.656703247e-23 * 6.022e23)\n",
    "    nElectron = 1 * (hydrogen + oxygen)\n",
    "    i = 75 / 1000000\n",
    "    plt.plot(energies, stoppingPower(nElectron, energies, i))\n",
    "    plt.xscale('log')\n",
    "    plt.yscale('log')\n",
    "    plt.show()\n"
   ]
  },
  {
   "cell_type": "markdown",
   "metadata": {},
   "source": [
    "## Question 3\n",
    "$\\frac{S_{col}}{\\rho}$ est le pouvoir d'arrêt collisionnel massique. On sait que $S_{col}$ est :\n",
    "\n",
    "$$S_{col}=2\\pi r_{e}^{2}m_{e}c^{2}n_{e}\\frac{1}{\\beta^{2}}\\left[ln\\left(\\frac{2m_{e}c^{2}\\beta^{2}\\gamma^{2}T_{e}^{max}}{I^{2}}\\right)-2\\beta^{2}\\right]$$\n",
    "\n",
    "$\\rho$ est la masse volumique, donc :\n",
    "\n",
    "$$\\rho=\\frac{m}{V}~\\left[\\frac{g}{cm^3}\\right]$$"
   ]
  },
  {
   "cell_type": "code",
   "execution_count": null,
   "metadata": {},
   "outputs": [],
   "source": []
  }
 ],
 "metadata": {
  "kernelspec": {
   "display_name": "Python 3",
   "language": "python",
   "name": "python3"
  },
  "language_info": {
   "codemirror_mode": {
    "name": "ipython",
    "version": 3
   },
   "file_extension": ".py",
   "mimetype": "text/x-python",
   "name": "python",
   "nbconvert_exporter": "python",
   "pygments_lexer": "ipython3",
   "version": "3.7.3"
  }
 },
 "nbformat": 4,
 "nbformat_minor": 2
}
