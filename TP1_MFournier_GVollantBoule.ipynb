{
 "cells": [
  {
   "cell_type": "markdown",
   "metadata": {},
   "source": [
    "## Question 1\n",
    "Selon wikipedia, la gamme d'énergie des protons va de 70 MeV à 250 MeV. L'énergie maximale serait donc de 250 MeV. Ces niveaux d'énergies dépendent de la pénétration désirée pour le proton. Les facteurs de lorentz sont $\\gamma$ et $\\beta$ qui représentent :\n",
    "\n",
    "$$\\gamma=\\frac{1}{\\sqrt{1-\\beta^{2}}}~~~~~\\beta=\\frac{v}{c}$$\n",
    "\n",
    "Comme le facteur de Lorentz sous-entend des vitesses relativistes alors on obtient $T$, l'énergie cinétique relativiste, selon :\n",
    "\n",
    "$$T=\\gamma mc^{2}-mc^{2}=mc^{2}(\\gamma-1)$$\n",
    "\n",
    "Il est possible d'isoler $\\gamma$ ce qui nous donne :\n",
    "\n",
    "$$\\gamma=\\frac{T}{mc^{2}}+1$$"
   ]
  },
  {
   "cell_type": "markdown",
   "metadata": {},
   "source": [
    "## Question 2\n"
   ]
  },
  {
   "cell_type": "code",
   "execution_count": null,
   "metadata": {},
   "outputs": [],
   "source": []
  }
 ],
 "metadata": {
  "kernelspec": {
   "display_name": "Python 3",
   "language": "python",
   "name": "python3"
  },
  "language_info": {
   "codemirror_mode": {
    "name": "ipython",
    "version": 3
   },
   "file_extension": ".py",
   "mimetype": "text/x-python",
   "name": "python",
   "nbconvert_exporter": "python",
   "pygments_lexer": "ipython3",
   "version": "3.7.3"
  }
 },
 "nbformat": 4,
 "nbformat_minor": 2
}
