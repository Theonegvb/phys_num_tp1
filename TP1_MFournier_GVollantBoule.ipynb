{
 "cells": [
  {
   "cell_type": "markdown",
   "metadata": {},
   "source": [
    "## Question 1\n",
    "Selon wikipedia, la gamme d'énergie des protons va de 70 MeV à 250 MeV. L'énergie maximale serait donc de 250 MeV. Ces niveaux d'énergies dépendent de la pénétration désirée pour le proton. Les facteurs de lorentz sont $\\gamma$ et $\\beta$ qui représentent :\n",
    "\n",
    "$$\\gamma=\\frac{1}{\\sqrt{1-\\beta^{2}}}~avec~\\beta=\\frac{v}{c}$$\n",
    "\n",
    "Comme le facteur de Lorentz sous-entend des vitesses relativistes alors on obtient $T$, l'énergie cinétique relativiste, selon :\n",
    "\n",
    "$$T=\\gamma mc^{2}-mc^{2}=mc^{2}(\\gamma-1)$$\n",
    "\n",
    "Il est possible d'isoler $\\gamma$ ce qui nous donne :\n",
    "\n",
    "$$\\gamma=\\frac{T}{mc^{2}}+1$$"
   ]
  },
  {
   "cell_type": "markdown",
   "metadata": {},
   "source": [
    "## Question 2\n",
    "Nous avons la masse volumique selon :\n",
    "\n",
    "$$\\rho=\\frac{m}{V}$$\n",
    "\n",
    "Ainsi que $N$, le nombre d'atomes par gramme. On cherche $n_e$, la densité électronique pour une matière donnée, donc $n_e~\\left[\\frac{e}{cm^3}\\right]$. Du NIST, on a la masse volumique de l'os cortical et de l'eau en $g/cm^3$ ainsi que la fraction par masse des différents atomes qui compose la matière. Nous avons donc :\n",
    "\n",
    "$$n_e=\\rho NZ_{t}=\\rho N\\sum_{i=1}^{n}Z_{i}a_{i}$$\n",
    "\n",
    "On peut obtenir $N$ en cosnidérant les masses molaires des différents atomes qui compose la matière :\n",
    "\n",
    "$$N~\\left[\\frac{e^{-}}{cm^3}\\right]\\to \\frac{N_{A}}{M_{m}}\\cdot\\rho\\cdot Z_{t}~\\left[\\frac{atomes}{mol}\\cdot\\frac{mol}{g}\\cdot\\frac{g}{cm^3}\\cdot e^{-}\\right]$$\n",
    "\n",
    "Donc :\n",
    "\n",
    "$$n_e=\\rho NZ_{t}=\\rho \\sum_{i=1}^{n}Z_{i}a_{i}\\frac{N_{A}}{M_{mi}}$$\n",
    "\n",
    "où $N_{A}$ est le nombre d'Avogadro et $M_{mi}$ est la masse molaire d'un atome qui compose la substance. Pour l'eau, avec $\\rho=1~\\left[\\frac{g}{cm^3}\\right]$, nous avons donc :\n",
    "\n",
    "$$n_e=\\left(\\frac{1\\cdot0.111894}{1.660540199\\times10^{-24}}+\\frac{8\\cdot0.888106}{2.656698265\\times10^{-23}}\\right)~\\left[\\frac{e^{-}}{cm^3}\\right]=3.3481\\times10^{23}~\\left[\\frac{e^{-}}{cm^3}\\right]$$\n",
    "\n",
    "Avec $I=75~\\left[eV\\right]$. Les masses sont déterminées à partir des masses atomiques des éléments trouvées de www.ptable.com. Pour l'os cortical, avec $\\rho=1.85~\\left[\\frac{g}{cm^3}\\right]$ nous avons :\n",
    "\n",
    "$$n_e=\\left(.~.~.\\right)=5.8121\\times10^{23}~\\left[\\frac{e^{-}}{cm^3}\\right]$$\n",
    "\n",
    "avec $I=106.4~\\left[eV\\right]$. Les courbes sont donc :\n"
   ]
  },
  {
   "cell_type": "code",
   "execution_count": 49,
   "metadata": {
    "scrolled": true
   },
   "outputs": [
    {
     "data": {
      "image/png": "[encoded data removed]",
      "text/plain": [
       "<Figure size 432x288 with 1 Axes>"
      ]
     },
     "metadata": {
      "needs_background": "light"
     },
     "output_type": "display_data"
    }
   ],
   "source": [
    "import numpy as np\n",
    "import matplotlib.pyplot as plt\n",
    "import scipy as scp\n",
    "from numpy import linspace, cos, pi, tan, ones, copy, random\n",
    "from scipy import integrate\n",
    "\n",
    "%matplotlib inline\n",
    "\n",
    "\n",
    "def beta(g):\n",
    "    return np.sqrt(1 - 1 / (g ** 2))\n",
    "\n",
    "\n",
    "def gamma(t):\n",
    "    mProton = 938.272\n",
    "    return t / mProton + 1\n",
    "\n",
    "\n",
    "def tMax(g):\n",
    "    mElectron = 0.51099895000\n",
    "    mPronton = 938.272\n",
    "    return (2 * mElectron * ((g ** 2) - 1)) / (1 + 2 * g * (mElectron / mPronton) + ((mElectron / mPronton) ** 2))\n",
    "\n",
    "\n",
    "def stoppingPower(nElectron, protonEnergy, i):\n",
    "    rElectron = 2.81794033e-13\n",
    "    mElectron = 0.51099895000\n",
    "    g = gamma(protonEnergy)\n",
    "    b = beta(g)\n",
    "    return 2 * pi * (rElectron ** 2) * mElectron * nElectron * (1 / (b ** 2)) *\\\n",
    "           (np.log((2 * mElectron * (b ** 2) * (g ** 2) * tMax(g))/(i ** 2)) - 2 * (b ** 2))\n",
    "\n",
    "\n",
    "energies = np.linspace(0.1, 240, 100000)\n",
    "\n",
    "bHydrogen = (1 * 0.047234 * 6.022e23) / 1.00784\n",
    "bCarbon = (6 * 0.144330 * 6.022e23) / 12.0096\n",
    "bNitrogen = (7 * 0.041990 * 6.022e23) / 14.00643\n",
    "bOxygen = (8 * 0.446096 * 6.022e23) / 15.99903\n",
    "bMagnesium = (12 * 0.002200 * 6.022e23) / 24.304\n",
    "bPhosphorus = (15 * 0.104970 * 6.022e23) / 30.973761998\n",
    "bSulfur = (16 * 0.003150 * 6.022e23) / 32.059\n",
    "bCalcium = (20 * 0.209930 * 6.022e23) / 40.078\n",
    "bZinc = (30 * 0.000100 * 6.022e23) / 65.38\n",
    "bNElectron = 1.85 * (bHydrogen + bCarbon + bNitrogen + bOxygen + bMagnesium + bPhosphorus + bSulfur + bCalcium + bZinc)\n",
    "bI = 106.4 / 1000000\n",
    "plt.plot(energies, stoppingPower(bNElectron, energies, bI))\n",
    "plt.title(r\"$S_{col}$ pour l'os cortical.\")\n",
    "plt.xscale('log')\n",
    "plt.xlabel(r'Energy $[MeV]$')\n",
    "plt.ylabel(r'$S_{col}$ $[\\frac{MeV}{cm}]$')\n",
    "plt.show()"
   ]
  },
  {
   "cell_type": "code",
   "execution_count": 50,
   "metadata": {},
   "outputs": [
    {
     "data": {
      "image/png": "[encoded data removed]",
      "text/plain": [
       "<Figure size 432x288 with 1 Axes>"
      ]
     },
     "metadata": {
      "needs_background": "light"
     },
     "output_type": "display_data"
    }
   ],
   "source": [
    "hydrogen = (1 * 0.111894 * 6.022e23) / 1.00784\n",
    "oxygen = (8 * 0.888106 * 6.022e23) / 15.99903\n",
    "nElectron = 1 * (hydrogen + oxygen)\n",
    "i = 75 / 1000000\n",
    "plt.plot(energies, stoppingPower(nElectron, energies, i))\n",
    "plt.title(r\"$S_{col}$ pour l'eau.\")\n",
    "plt.xscale('log')\n",
    "plt.xlabel(r'Energy $[MeV]$')\n",
    "plt.ylabel(r'$S_{col}$ $[\\frac{MeV}{cm}]$')\n",
    "plt.show()"
   ]
  },
  {
   "cell_type": "markdown",
   "metadata": {},
   "source": [
    "## Question 3\n",
    "Selon le NIST, le $R_{CSDA}$ est en $\\frac{g}{cm^2}$ (voir la page https://physics.nist.gov/cgi-bin/Star/ap_table.pl). $\\frac{S_{col}}{\\rho}$ est le pouvoir d'arrêt collisionnel massique. On sait que $S_{col}$ est :\n",
    "\n",
    "$$S_{col}=2\\pi r_{e}^{2}m_{e}c^{2}n_{e}\\frac{1}{\\beta^{2}}\\left[ln\\left(\\frac{2m_{e}c^{2}\\beta^{2}\\gamma^{2}T_{e}^{max}}{I^{2}}\\right)-2\\beta^{2}\\right]~\\left[\\frac{MeV}{cm}\\right]$$\n",
    "\n",
    "$\\rho$ est la masse volumique, donc :\n",
    "\n",
    "$$\\rho=\\frac{m}{V}~\\left[\\frac{g}{cm^3}\\right]$$\n",
    "\n",
    "Les unités de $\\frac{S_{col}}{\\rho}$ sont donc :\n",
    "\n",
    "$$\\left[\\frac{MeV}{cm}\\right]\\cdot\\left[\\frac{cm^3}{g}\\right]=\\left[\\frac{MeV\\cdot cm^2}{g}\\right]$$\n",
    "\n",
    "Comme nous avons $\\frac{1}{S_{col}/\\rho}$, alors nous avons :\n",
    "\n",
    "$$\\left[\\frac{g}{MeV\\cdot cm^2}\\right]$$\n",
    "\n",
    "En intégrant sur $T$, il ne reste que :\n",
    "\n",
    "$$\\left[\\frac{g}{cm^2}\\right]$$\n",
    "\n",
    "On peut donc constater l'homogénéité de l'équation."
   ]
  },
  {
   "cell_type": "markdown",
   "metadata": {},
   "source": [
    "## Question 4\n",
    "Sur le site du NIST et avec l'eau, on peut voir que le pouvoir d'arrêt collisionnel total prend en compte le pouvoir d'arrêt électronique et nucléaire. Or, plus le proton est énergétique, plus le pouvoir d'arrêt est négligeable et le pouvoir d'arrêt électronique devient de plus en plus dominant. Pour un proton d'envirron $100\\left[MeV\\right]$, la différence entre le pouvoir d'arrêt nucléaire et électronique est dans l'ordre de $10^2$ à $10^3$ et augmente jusqu'à $10^6$ pour des protons d'énergies de $1000\\left[MeV\\right]$.\n",
    "\n",
    "Voir l'exemple de l'eau à la page : https://physics.nist.gov/cgi-bin/Star/ap_table.pl"
   ]
  },
  {
   "cell_type": "markdown",
   "metadata": {},
   "source": [
    "## Question 6"
   ]
  },
  {
   "cell_type": "code",
   "execution_count": 23,
   "metadata": {},
   "outputs": [],
   "source": [
    "class Integration:\n",
    "    \"\"\"\n",
    "    Classe qui permet de faire l'intégration de fonctions réelle.\n",
    "    \"\"\"\n",
    "\n",
    "    def __init__(self, fonction_integrer=1, bornes=[1,2], nombre_de_pas=1, intervalle_variable=None):\n",
    "        \"\"\"\n",
    "        Le constructeur de l'intégration.\n",
    "        Args:\n",
    "            fonction_integrer (fonction): La fonction qui sera à intégrer numériquement.\n",
    "            bornes (array like): Donne les bornes d'intégration numérique.\n",
    "            nombre_de_pas (int): Nombre de pas dans l'intégration numérique.\n",
    "            emplacement_variable (array like): On peut donné directement l'emplacement des pas dans l'inégration entre\n",
    "             les bornes.\n",
    "        \"\"\"\n",
    "\n",
    "        self.intervalle_variable = intervalle_variable\n",
    "        self.fonction_integrer=fonction_integrer\n",
    "        self.bornes = bornes\n",
    "        self.nombre_de_pas = nombre_de_pas\n",
    "\n",
    "\n",
    "class Integration_trapezes(Integration):\n",
    "    \"\"\"\n",
    "    Classe de l'intégration par méthode des trapèzes\n",
    "    \"\"\"\n",
    "    def __init__(self, fonction_integrer=1, bornes=np.array([1, 2]), nombre_de_pas=1, intervalle_variable=None):\n",
    "        \"\"\"\n",
    "        Le constructeur de l'intégration.\n",
    "        Args:\n",
    "            fonction_integrer (fonction): La fonction qui sera à intégrer numériquement.\n",
    "            bornes (array like): Donne les bornes d'intégration numérique.\n",
    "            nombre_de_pas (int): Nombre de pas dans l'intégration numérique.\n",
    "            emplacement_variable (array like): On peut donné directement l'emplacement des pas dans l'inégration entre\n",
    "             les bornes.\n",
    "        \"\"\"\n",
    "        super().__init__(fonction_integrer, bornes, nombre_de_pas, intervalle_variable)\n",
    "        if intervalle_variable == None:\n",
    "            self.array_integration = np.linspace(self.bornes[0], self.bornes[1], self.nombre_de_pas + 1)\n",
    "        else:\n",
    "            self.array_integration = intervalle_variable\n",
    "\n",
    "        array_valeur_fonction = np.array([])\n",
    "        for i in self.array_integration:\n",
    "            array_valeur_fonction = np.append(array_valeur_fonction, self.fonction_integrer(i))\n",
    "\n",
    "        self.array_valeur_fonction = array_valeur_fonction\n",
    "\n",
    "    def update_array_integration(self):\n",
    "        self.array_integration = np.linspace(self.bornes[0], self.bornes[1], self.nombre_de_pas + 1)\n",
    "\n",
    "    def update_array_valeur_fonction(self):\n",
    "        array_valeur_fonction = np.array([])\n",
    "        for i in self.array_integration:\n",
    "            array_valeur_fonction = np.append(array_valeur_fonction, self.fonction_integrer(i))\n",
    "\n",
    "        self.array_valeur_fonction = array_valeur_fonction\n",
    "\n",
    "    def get_array_valeur_fonction(self):\n",
    "        return self.array_valeur_fonction\n",
    "\n",
    "    def get_array_integration(self):\n",
    "        return self.array_integration\n",
    "\n",
    "    def get_fonction_integrer(self):\n",
    "        return self.fonction_integrer\n",
    "\n",
    "    def set_fonction_integrer(self, nouvelle_fonction_integrer):\n",
    "        self.fonction_integrer = nouvelle_fonction_integrer\n",
    "        self.update_array_integration()\n",
    "\n",
    "    def get_bornes(self):\n",
    "        return self.bornes\n",
    "\n",
    "    def set_bornes(self, nouvelles_bornes):\n",
    "        self.bornes = nouvelles_bornes\n",
    "        self.update_array_integration()\n",
    "\n",
    "    def get_nombre_de_pas(self):\n",
    "        return self.nombre_de_pas\n",
    "\n",
    "    def set_nombre_de_pas(self, nouveau_nombre_de_pas):\n",
    "\n",
    "        if nouveau_nombre_de_pas/self.nombre_de_pas % 2 == 0:\n",
    "            nombre_de_fois_par_2 = int(np.floor(np.log(nouveau_nombre_de_pas/self.nombre_de_pas)/np.log(2)))\n",
    "            if nombre_de_fois_par_2 == np.log(nouveau_nombre_de_pas)/np.log(2):\n",
    "                for i in range(nombre_de_fois_par_2):\n",
    "                    self.double_nombre_de_pas()\n",
    "            self.nombre_de_pas = nouveau_nombre_de_pas\n",
    "        else:\n",
    "            self.nombre_de_pas = nouveau_nombre_de_pas\n",
    "            self.update_array_integration()\n",
    "            self.update_array_valeur_fonction()\n",
    "\n",
    "    def double_nombre_de_pas(self):\n",
    "        self.nombre_de_pas = 2 * self.nombre_de_pas\n",
    "        self.update_array_integration()\n",
    "\n",
    "        nouvel_array_valeur_fonction = np.array([])\n",
    "\n",
    "        for i in range(self.nombre_de_pas + 1):\n",
    "            if i % 2 == 0:\n",
    "                nouvel_array_valeur_fonction = \\\n",
    "                    np.append(nouvel_array_valeur_fonction, self.array_valeur_fonction[int(i/2)])\n",
    "            else:\n",
    "                nouvel_array_valeur_fonction = \\\n",
    "                    np.append(nouvel_array_valeur_fonction, self.fonction_integrer(self.array_integration[i]))\n",
    "\n",
    "        self.array_valeur_fonction = nouvel_array_valeur_fonction\n",
    "\n",
    "    def get_intervalle_variable(self):\n",
    "        return self.intervalle_variable\n",
    "\n",
    "    def set_intervale_variable(self, nouvel_intervalle_variable):\n",
    "        self.intervalle_variable = nouvel_intervalle_variable\n",
    "        self.update_array_integration()\n",
    "\n",
    "    def aire_trapeze (self, index_droite):\n",
    "        return (self.array_integration[index_droite] - self.array_integration[index_droite-1])\\\n",
    "               * (self.array_valeur_fonction[index_droite] + self.array_valeur_fonction[index_droite-1]) / 2\n",
    "\n",
    "    def aire_totale(self):\n",
    "        aire_totale = 0\n",
    "        for index_droite in range(len(self.array_integration) - 1):\n",
    "            aire_totale += self.aire_trapeze(index_droite+1)\n",
    "        return aire_totale\n",
    "\n",
    "    def incertitude_pratique(self):\n",
    "        aire_N = self.aire_totale()\n",
    "        self.set_nombre_de_pas(int(2 * self.nombre_de_pas))\n",
    "        aire_2N = self.aire_totale()\n",
    "        self.set_nombre_de_pas(int(self.nombre_de_pas / 2))\n",
    "\n",
    "        return (aire_2N - aire_N)/3\n",
    "\n",
    "\n",
    "def tMax(g):\n",
    "    mElectron = 0.51099895000\n",
    "    mPronton = 938.272\n",
    "    return (2 * mElectron * ((g ** 2) - 1)) / (1 + 2 * g * (mElectron / mPronton) + (mElectron / mPronton) ** 2)\n",
    "\n",
    "\n",
    "def beta(g):\n",
    "    return np.sqrt(1 - 1 / (g ** 2))\n",
    "\n",
    "\n",
    "def gamma(t):\n",
    "    mProton = 938.272\n",
    "    return t / mProton + 1\n",
    "\n",
    "\n",
    "def S_col_eau(x):\n",
    "    i = 75 / 1000000\n",
    "    rElectron = 2.81e-13\n",
    "    nElectron = 3.3428e23\n",
    "    mElectron = 0.51099895000\n",
    "\n",
    "    g = gamma(x)\n",
    "    b = beta(g)\n",
    "\n",
    "\n",
    "    return 1 / (2 * pi * rElectron ** 2 * mElectron * nElectron * b ** -2 *\n",
    "                (np.log((2 * mElectron * b ** 2 * g ** 2 * tMax(g))/(i ** 2)) - 2 * b ** 2))"
   ]
  },
  {
   "cell_type": "markdown",
   "metadata": {},
   "source": [
    "## Question 9\n",
    "On utilise l'implémentation de Newman. On obtient le code suivant :"
   ]
  },
  {
   "cell_type": "code",
   "execution_count": 51,
   "metadata": {},
   "outputs": [
    {
     "data": {
      "image/png": "[encoded data removed]",
      "text/plain": [
       "<Figure size 432x288 with 1 Axes>"
      ]
     },
     "metadata": {
      "needs_background": "light"
     },
     "output_type": "display_data"
    },
    {
     "name": "stdout",
     "output_type": "stream",
     "text": [
      "N après optimisation :  30\n"
     ]
    }
   ],
   "source": [
    "def gaussianProtonsGenerator():\n",
    "    return random.normal(240, 3, 10000)\n",
    "\n",
    "\n",
    "def f(x):\n",
    "    i = 75 / 1000000\n",
    "    rElectron = 2.81e-13\n",
    "    nElectron = 3.3428e23\n",
    "    mElectron = 0.51099895000\n",
    "\n",
    "    g = gamma(x)\n",
    "    b = beta(g)\n",
    "    return 1 / (2 * pi * rElectron ** 2 * mElectron * nElectron * b ** -2 *\n",
    "                (np.log((2 * mElectron * b ** 2 * g ** 2 * tMax(g))/(i ** 2)) - 2 * b ** 2))\n",
    "\n",
    "\n",
    "def gaussxw(N):\n",
    "    # Initial approximation to roots of the Legendre polynomial\n",
    "    a = linspace(3, 4 * N - 1, N) / (4 * N + 2)\n",
    "    x = cos(pi * a + 1 / (8 * N * N * tan(a)))\n",
    "\n",
    "    # Find roots using Newton's method\n",
    "    epsilon = 1e-15\n",
    "    delta = 1.0\n",
    "    while delta>epsilon:\n",
    "        p0 = ones(N, float)\n",
    "        p1 = copy(x)\n",
    "        for k in range(1,N):\n",
    "            p0, p1 = p1,((2 * k + 1) * x * p1 - k * p0)/(k + 1)\n",
    "        dp = (N + 1)*(p0 - x * p1)/(1 - x * x)\n",
    "        dx = p1 / dp\n",
    "        x -= dx\n",
    "        delta = max(abs(dx))\n",
    "\n",
    "    # Calculate the weights\n",
    "    w = 2 * (N + 1) * (N + 1) / (N * N * (1 - x * x) * dp * dp)\n",
    "\n",
    "    return x, w\n",
    "\n",
    "\n",
    "def gaussianQuadrature(N, a, b):\n",
    "    x, w = gaussxw(N)\n",
    "    xp = 0.5 * (b - a) * x + 0.5 * (b + a)\n",
    "    wp = 0.5 * (b - a) * w\n",
    "\n",
    "    # Perform the integration\n",
    "    s = 0\n",
    "    for k in range(N):\n",
    "        s += wp[k] * f(xp[k])\n",
    "    return s\n",
    "\n",
    "\n",
    "def optimalQuadrature(a, b):\n",
    "    N = 10\n",
    "    s1 = gaussianQuadrature(N, a, b)\n",
    "    delta = 1\n",
    "    while delta >= 1e-9:\n",
    "        N += 1\n",
    "        s2 = gaussianQuadrature(N, a, b)\n",
    "        delta = s1 - s2\n",
    "        s1 = s2\n",
    "    return N\n",
    "\n",
    "\n",
    "protons = gaussianProtonsGenerator()\n",
    "\n",
    "N = optimalQuadrature(3, 240)\n",
    "distances = []\n",
    "for proton in protons:\n",
    "    a = 3\n",
    "    b = proton\n",
    "    distance = gaussianQuadrature(N, a, b)\n",
    "    distances.append(distance)\n",
    "\n",
    "plt.hist(distances, 100)\n",
    "plt.title(\"Histogramme des distances pour la quadrature Gaussienne.\")\n",
    "plt.xlabel(r'Distance [$cm$]')\n",
    "plt.ylabel('Comptes [-]')\n",
    "plt.legend('show')\n",
    "plt.show()\n",
    "print('N après optimisation : ', N)"
   ]
  },
  {
   "cell_type": "markdown",
   "metadata": {},
   "source": [
    "## Question 10\n",
    "Pour la question 10, on réutilise la méthode des trapèzes de la question 6."
   ]
  },
  {
   "cell_type": "code",
   "execution_count": 52,
   "metadata": {},
   "outputs": [
    {
     "data": {
      "image/png": "[encoded data removed]",
      "text/plain": [
       "<Figure size 432x288 with 1 Axes>"
      ]
     },
     "metadata": {
      "needs_background": "light"
     },
     "output_type": "display_data"
    }
   ],
   "source": [
    "distances = []\n",
    "for proton in protons:\n",
    "    integration = Integration_trapezes(S_col_eau, bornes=[0.0001, proton], nombre_de_pas=1000)\n",
    "    distances.append(integration.aire_totale())\n",
    "\n",
    "plt.hist(distances, 100)\n",
    "plt.title(\"Histogramme des distances pour la méthode des trapèze.\")\n",
    "plt.xlabel(r'Distance [$cm$]')\n",
    "plt.ylabel('Comptes [-]')\n",
    "plt.legend('show')\n",
    "plt.show()"
   ]
  },
  {
   "cell_type": "markdown",
   "metadata": {},
   "source": [
    "## Question 11\n",
    "Pour la question 11, on utilise la librairie scipy."
   ]
  },
  {
   "cell_type": "code",
   "execution_count": 53,
   "metadata": {},
   "outputs": [
    {
     "data": {
      "image/png": "[encoded data removed]",
      "text/plain": [
       "<Figure size 432x288 with 1 Axes>"
      ]
     },
     "metadata": {
      "needs_background": "light"
     },
     "output_type": "display_data"
    }
   ],
   "source": [
    "distances = []\n",
    "for proton in protons:\n",
    "    distances.append(integrate.quad(f, 3, proton)[0])\n",
    "\n",
    "plt.hist(distances, 100)\n",
    "plt.title(\"Histogramme des distances pour la quadrature Gaussienne avec Scipy.\")\n",
    "plt.xlabel(r'Distance [$cm$]')\n",
    "plt.ylabel('Comptes [-]')\n",
    "plt.legend('show')\n",
    "plt.show()"
   ]
  },
  {
   "cell_type": "markdown",
   "metadata": {},
   "source": [
    "## Question 12\n",
    "Comme il est question d'un grand nombre de protons et de beaucoup d'opérations simple, il nous semble que l'idéal, pour augmenter le nombre de protons et garder une certaine rapidité, serait d'utiliser des GPUs et donc de divisé les protons en groupes qui seront traités à la suite par les différents processeurs du GPU.\n",
    "\n",
    "Sinon, basé sur le fait que l'on a une distribution normale et en s'inspirant des histogrammes : On remarque que l'on peut diviser les valeurs en \"bins\", c'est-à-dire que l'on rassemble les valeurs que l'on juge similaire ensemble. En précisant une certaine précision, il serait peut-être possible de réutiliser certaines intégrales pour certains protons en rassemblant tous les protons d'une \"famille\" ensemble."
   ]
  },
  {
   "cell_type": "markdown",
   "metadata": {},
   "source": [
    "## Question 13\n",
    "Écrire un algorithme capable de réaliser le transport des protons subissant une décélération continue dans le milieu et tracer le dépôt d’énergie en fonction de la profondeur pour l’eau et l’os pour des proton d’énergie cinétique 75 MeV, 100 MeV et 150 MeV. Votre courbe comportera un point où l’énergie déposée est nulle. La position de ce point est-elle conforme à vos résultats antérieurs sur la portée ? Qu’est-ce qui influence sa valeur ?"
   ]
  }
 ],
 "metadata": {
  "kernelspec": {
   "display_name": "Python 3",
   "language": "python",
   "name": "python3"
  },
  "language_info": {
   "codemirror_mode": {
    "name": "ipython",
    "version": 3
   },
   "file_extension": ".py",
   "mimetype": "text/x-python",
   "name": "python",
   "nbconvert_exporter": "python",
   "pygments_lexer": "ipython3",
   "version": "3.7.3"
  }
 },
 "nbformat": 4,
 "nbformat_minor": 2
}
